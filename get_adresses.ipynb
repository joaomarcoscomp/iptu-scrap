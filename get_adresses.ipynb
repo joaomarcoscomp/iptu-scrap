{
 "cells": [
  {
   "cell_type": "code",
   "execution_count": 33,
   "id": "ba5c8156-e392-4ffb-b286-434aca574d9f",
   "metadata": {
    "tags": []
   },
   "outputs": [],
   "source": [
    "import pandas as pd\n",
    "import time\n",
    "from selenium import webdriver\n",
    "from webdriver_manager.chrome import ChromeDriverManager\n",
    "from selenium.webdriver.chrome.service import Service\n",
    "from selenium.webdriver.chrome.options import Options\n",
    "from selenium.webdriver.common.by import By\n",
    "from selenium.webdriver.common.keys import Keys"
   ]
  },
  {
   "cell_type": "code",
   "execution_count": 28,
   "id": "0f910252-5f11-4d5a-8107-a6c3da2a2869",
   "metadata": {
    "tags": []
   },
   "outputs": [],
   "source": [
    "## Setup chrome options\n",
    "chrome_options = Options()\n",
    "chrome_options.add_argument(\"--headless\") # Ensure GUI is off\n",
    "chrome_options.add_argument(\"--no-sandbox\")"
   ]
  },
  {
   "attachments": {},
   "cell_type": "markdown",
   "id": "9eba0bd9-96c9-42ef-a94a-accf54aa41da",
   "metadata": {},
   "source": [
    "# Import data that will be used to look for adresses"
   ]
  },
  {
   "cell_type": "code",
   "execution_count": 40,
   "id": "ed37b08e-a7fc-46b4-9f10-0b64fb7d40d0",
   "metadata": {
    "tags": []
   },
   "outputs": [],
   "source": [
    "file_loc = 'inscricao_imoveis.xlsx'\n",
    "imoveis = pd.read_excel(file_loc)\n",
    "imoveis_inscricao = imoveis['IMOVEL']\n",
    "teste = imoveis_inscricao.head()"
   ]
  },
  {
   "cell_type": "code",
   "execution_count": null,
   "id": "c879ba1e-fa03-4abe-93ac-90f77742b256",
   "metadata": {
    "tags": []
   },
   "outputs": [],
   "source": [
    "type(teste[4])"
   ]
  },
  {
   "attachments": {},
   "cell_type": "markdown",
   "id": "52d22e83-d711-425a-b195-5f3473632853",
   "metadata": {
    "tags": []
   },
   "source": [
    "# Create driver"
   ]
  },
  {
   "cell_type": "code",
   "execution_count": 41,
   "id": "4d3f08e8-9139-4b59-ba6b-a1aeb5c25b33",
   "metadata": {
    "tags": []
   },
   "outputs": [],
   "source": [
    "#driver = webdriver.Chrome(ChromeDriverManager().install())\n",
    "# Create service\n",
    "webdriver_service = Service(ChromeDriverManager().install())\n",
    "# Create driver\n",
    "driver = webdriver.Chrome(service = webdriver_service, options = chrome_options)"
   ]
  },
  {
   "cell_type": "code",
   "execution_count": 42,
   "id": "992e12bf-4515-4dd1-830b-aa4b1c78398c",
   "metadata": {
    "tags": []
   },
   "outputs": [],
   "source": [
    "page_url = 'https://iptu.campogrande.ms.gov.br/Index'\n",
    "driver.get(page_url)"
   ]
  },
  {
   "cell_type": "code",
   "execution_count": 12,
   "id": "d6cfe286-b774-450d-9f4a-20545afb926a",
   "metadata": {
    "tags": []
   },
   "outputs": [],
   "source": [
    "inscricao = driver.find_element(By.ID, \"inputInscricao\")\n",
    "inscricao.send_keys(\"0\")\n",
    "inscricao.send_keys(Keys.ENTER)\n",
    "time.sleep(2)\n",
    "invalid = driver.find_element(By.CLASS_NAME, 'toast-message')"
   ]
  },
  {
   "cell_type": "code",
   "execution_count": null,
   "id": "5416e556-d14d-4386-a09a-69fe195d85d8",
   "metadata": {
    "tags": []
   },
   "outputs": [],
   "source": [
    "invalid.text"
   ]
  },
  {
   "attachments": {},
   "cell_type": "markdown",
   "id": "1be45e29-80ab-41f3-bc7f-1cfde2bc52b8",
   "metadata": {},
   "source": [
    "# Select values for adress"
   ]
  },
  {
   "cell_type": "code",
   "execution_count": null,
   "id": "afa50d69-3bf2-4989-8a51-a0ca9c8053ed",
   "metadata": {
    "tags": []
   },
   "outputs": [],
   "source": [
    "endereco_list = []\n",
    "bairro_list = []\n",
    "\n",
    "for imovel in imoveis_inscricao:\n",
    "    driver.get(page_url)\n",
    "    time.sleep(2)\n",
    "    inscricao = driver.find_element(By.ID, \"inputInscricao\")\n",
    "    inscricao.send_keys(imovel)\n",
    "    inscricao.send_keys(Keys.ENTER)\n",
    "    time.sleep(1)\n",
    "    try:\n",
    "        invalid = driver.find_element(By.CLASS_NAME, 'toast-message')\n",
    "        if invalid != 'Inscrição Municipal inválida! Por favor, verifique se a informação está correta e tente novamente.':\n",
    "            endereco = driver.find_element(By.XPATH, '/html/body/section[1]/div/div/div[1]/div[4]')\n",
    "            bairro = driver.find_element(By.XPATH, '/html/body/section[1]/div/div/div[2]/div[2]')\n",
    "            endereco_list.append(endereco.text)\n",
    "            bairro_list.append(bairro.text)\n",
    "    except:\n",
    "        continue"
   ]
  },
  {
   "cell_type": "code",
   "execution_count": null,
   "id": "02b20a5a-6ad5-44f8-8446-560316abc51a",
   "metadata": {
    "tags": []
   },
   "outputs": [],
   "source": [
    "#print(endereco_list)\n",
    "#print(bairro_list)\n",
    "len(endereco_list)"
   ]
  },
  {
   "attachments": {},
   "cell_type": "markdown",
   "id": "705dbeb0-1721-4c09-800f-0fa6cffbee5e",
   "metadata": {},
   "source": [
    "# Write in the xlsx file and save"
   ]
  },
  {
   "cell_type": "code",
   "execution_count": 38,
   "id": "d1612ba7-09c8-4a25-86be-d8b8133dc28f",
   "metadata": {
    "tags": []
   },
   "outputs": [],
   "source": [
    "lend = endereco_list\n",
    "lbair = bairro_list"
   ]
  },
  {
   "cell_type": "code",
   "execution_count": 39,
   "id": "ec2ff289-d213-4729-aa26-8c1ad3a7e98d",
   "metadata": {
    "tags": []
   },
   "outputs": [],
   "source": [
    "df = pd.DataFrame({'INSCRICAO': imoveis_inscricao, 'ENDERECO': lend, 'BAIRRO': lbair})\n",
    "df.to_excel('enredecos_inscricao.xlsx', sheet_name='sheet1', index=False)"
   ]
  }
 ],
 "metadata": {
  "kernelspec": {
   "display_name": "Python 3 (ipykernel)",
   "language": "python",
   "name": "python3"
  },
  "language_info": {
   "codemirror_mode": {
    "name": "ipython",
    "version": 3
   },
   "file_extension": ".py",
   "mimetype": "text/x-python",
   "name": "python",
   "nbconvert_exporter": "python",
   "pygments_lexer": "ipython3",
   "version": "3.10.10"
  }
 },
 "nbformat": 4,
 "nbformat_minor": 5
}
